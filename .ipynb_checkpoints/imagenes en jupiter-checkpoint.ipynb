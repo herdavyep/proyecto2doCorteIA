{
 "cells": [
  {
   "cell_type": "code",
   "execution_count": null,
   "metadata": {
    "collapsed": true
   },
   "outputs": [],
   "source": [
    "# PROYECTO 2DO CORTE\n",
    "\n",
    "## RECONOCIMIENTO DE PERSONAS CON OPENCV\n",
    "\n",
    "## 1.Instalar OpenCV en Windows\n",
    "\n",
    "Ingresamos a opencv.org y seleccionamos la versión que deseemos trabajar, en para este ejercicio se usara la versión 3.4.1, accedemos y descargamos:\n",
    "![Papel y lápiz](imagen1.jpg \"MarkDown\")\n",
    "![Papel y lápiz](auris.jpg \"MarkDown\")\n"
   ]
  },
  {
   "cell_type": "code",
   "execution_count": null,
   "metadata": {
    "collapsed": true
   },
   "outputs": [],
   "source": [
    "# auris\n",
    "![Papel y lápiz](auris.jpg \"MarkDown\")\n",
    "\n"
   ]
  },
  {
   "cell_type": "markdown",
   "metadata": {},
   "source": [
    "% echo \"**Markdown** ***Ligero***\" | python -m markdown"
   ]
  },
  {
   "cell_type": "markdown",
   "metadata": {},
   "source": [
    "# tiyulo\n",
    "* Este es el primer nivel de esta lista.\n",
    " * Para crear un segundo nivel, agregue dos espacios antes del asterisco o número.\n",
    "    \n",
    "Este es un ejemplo de \"2+3\"."
   ]
  },
  {
   "cell_type": "code",
   "execution_count": 7,
   "metadata": {},
   "outputs": [
    {
     "data": {
      "text/plain": [
       "5"
      ]
     },
     "execution_count": 7,
     "metadata": {},
     "output_type": "execute_result"
    }
   ],
   "source": [
    "2+3"
   ]
  },
  {
   "cell_type": "code",
   "execution_count": null,
   "metadata": {
    "collapsed": true
   },
   "outputs": [],
   "source": []
  }
 ],
 "metadata": {
  "kernelspec": {
   "display_name": "Python 3",
   "language": "python",
   "name": "python3"
  },
  "language_info": {
   "codemirror_mode": {
    "name": "ipython",
    "version": 3
   },
   "file_extension": ".py",
   "mimetype": "text/x-python",
   "name": "python",
   "nbconvert_exporter": "python",
   "pygments_lexer": "ipython3",
   "version": "3.6.3"
  }
 },
 "nbformat": 4,
 "nbformat_minor": 2
}
